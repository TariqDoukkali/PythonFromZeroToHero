{
 "cells": [
  {
   "cell_type": "markdown",
   "id": "34f978af-54d9-4a79-a96a-d2755ad57c3c",
   "metadata": {},
   "source": [
    "# 🌟 Markdown in JupyterLab – Alle Formatierungen\n",
    "\n",
    "## 1️⃣ **Überschriften**\n",
    "# H1 – Große Überschrift\n",
    "## H2 – Mittlere Überschrift\n",
    "### H3 – Kleinere Überschrift\n",
    "#### H4 – Noch kleiner\n",
    "##### H5 – Sehr klein\n",
    "###### H6 – Winzig\n"
   ]
  },
  {
   "cell_type": "markdown",
   "id": "5dfd6f7e-47cc-4b88-8e33-26ac6d64876f",
   "metadata": {},
   "source": [
    "---"
   ]
  },
  {
   "cell_type": "markdown",
   "id": "66dfbc86-8734-4aac-a3ee-d7a61343d13c",
   "metadata": {},
   "source": [
    "## 2️⃣ **Textformatierung**\n",
    "**Fett**  \n",
    "*Kursiv*  \n",
    "~~Durchgestrichen~~  \n",
    "**_Fett & Kursiv kombiniert_**\n",
    "\n",
    "---\n"
   ]
  },
  {
   "cell_type": "markdown",
   "id": "45ce42b8-2a7f-42a0-acda-b3ba3e6227da",
   "metadata": {},
   "source": [
    "\n",
    "## 3️⃣ **Listen**\n",
    "### 🔹 Geordnete Liste (nummeriert)\n",
    "1. Erster Punkt\n",
    "2. Zweiter Punkt\n",
    "3. Dritter Punkt\n"
   ]
  },
  {
   "cell_type": "markdown",
   "id": "640515dd-a9fd-4b15-b454-c3e559fe14a9",
   "metadata": {},
   "source": [
    "### 🔹 Ungeordnete Liste (Bullet Points)\n",
    "- Punkt A\n",
    "- Punkt B\n",
    "- Punkt C"
   ]
  },
  {
   "cell_type": "markdown",
   "id": "f08bf859-0913-4054-8331-4924701f9a34",
   "metadata": {},
   "source": [
    "\n",
    "### 🔹 Verschachtelte Listen\n",
    "1. Erster Punkt\n",
    "   - Unterpunkt 1\n",
    "   - Unterpunkt 2\n",
    "2. Zweiter Punkt\n",
    "   - Unterpunkt 3\n",
    "   - Unterpunkt 4\n",
    "\n",
    "---"
   ]
  },
  {
   "cell_type": "markdown",
   "id": "69b576e8-9903-4478-afb6-211ca3e591a9",
   "metadata": {},
   "source": [
    "\n",
    "## 4️⃣ **Code-Blöcke**\n",
    "### 🔹 Inline-Code:\n",
    "Das ist ein `Inline-Code-Beispiel`."
   ]
  },
  {
   "cell_type": "markdown",
   "id": "d768f26c-0fa2-4007-b9b4-a9fc72c79df1",
   "metadata": {},
   "source": [
    "## 5️⃣ **Mehrzeiliger Code mit Syntax-Highlighting:**\n",
    "```python\n",
    "def hello():\n",
    "    print(\"Hallo, Jupyter!\")\n",
    "    "
   ]
  },
  {
   "cell_type": "markdown",
   "id": "ac4f768c-d8bf-4d7f-a352-6c8ba24a14eb",
   "metadata": {
    "jp-MarkdownHeadingCollapsed": true
   },
   "source": [
    "## 6️⃣\n",
    "You can add an Unicode Emoji in your comments.\n",
    "Here is a website contains list of all Unicode Emojis:\n",
    "<a href=\"https://unicode.org/emoji/charts/full-emoji-list.html\">Emoji-Liste</a>\n",
    "\n",
    "Important (you have to put &#x before unicode): \n",
    "here is a list of most important Emojis:  \n",
    "# 📌 Unicode-Emojis als HTML in Markdown\n",
    "\n",
    "### 💬 Kommunikation & Gesten\n",
    "- 💬 `&#x1F4AD;` – Gedankenblase  \n",
    "- 🗯 `&#x1F5EF;` – Wut-Blase  \n",
    "- 💤 `&#x1F4A4;` – Schlafen  \n",
    "- 👋 `&#x1F44B;` – Winken  \n",
    "- 🤚 `&#x1F91A;` – Hochgehaltene Hand  \n",
    "- 🤟 `&#x1F90F;` – \"Ich liebe dich\"-Handzeichen  \n",
    "- 👈 `&#x1F448;` – Zeigt nach links  \n",
    "- 👉 `&#x1F449;` – Zeigt nach rechts  \n",
    "- 👆 `&#x1F446;` – Zeigt nach oben  \n",
    "- 👇 `&#x1F447;` – Zeigt nach unten  \n",
    "- ☝ `&#x261D;` – Erhobener Zeigefinger  \n",
    "- 🫵 `&#x1FAF5;` – Zeigt direkt auf dich  \n",
    "- 👍 `&#x1F44D;` – Daumen hoch  \n",
    "- 👎 `&#x1F44E;` – Daumen runter  \n",
    "- ✊ `&#x1F44A;` – Faust  \n",
    "- 🤝 `&#x1F91D;` – Handschlag  \n",
    "- 🙏 `&#x1F64F;` – Betende Hände  \n",
    "- ✍ `&#x270D;` – Schreiben  \n",
    "\n",
    "### 🧠 Kopf, Gesicht & Menschen\n",
    "- 💪 `&#x1F4AA;` – Stark  \n",
    "- 🧠 `&#x1F9E0;` – Gehirn  \n",
    "- 👁 `&#x1F441;` – Auge  \n",
    "- 👦 `&#x1F466;` – Junge  \n",
    "- 👧 `&#x1F467;` – Mädchen  \n",
    "- 🧔 `&#x1F9D4;` – Mann mit Bart  \n",
    "- 🙋 `&#x1F64B;` – Hand heben  \n",
    "- 🧏 `&#x1F9CF;` – Taube Person  \n",
    "- 🤦 `&#x1F926;` – Facepalm  \n",
    "- 👨 `&#x1F468;` – Mann  \n",
    "- 🧑 `&#x1F9D1;` – Person  \n",
    "\n",
    "### 🌍 Welt & Zeit\n",
    "- 🗣 `&#x1F5E3;` – Redende Person  \n",
    "- 🌍 `&#x1F30D;` – Erdkugel (Europa-Afrika)  \n",
    "- 🌐 `&#x1F310;` – Globus  \n",
    "\n",
    "### ⏰ Zeit, Sterne & Technik\n",
    "- 🕛 `&#x1F55B;` – Uhr  \n",
    "- ⭐ `&#x2B50;` – Stern  \n",
    "- 🖥 `&#x1F5A5;` – Computer  \n",
    "- 💿 `&#x1F4BF;` – CD  \n",
    "\n",
    "### 📚 Kommunikation & Dateien\n",
    "- 📕 `&#x1F4D5;` – Buch  \n",
    "- 📧 `&#x1F4E7;` – E-Mail  \n",
    "- 🖊 `&#x1F58B;` – Stift  \n",
    "- 📂 `&#x1F4C2;` – Offener Ordner  \n",
    "- 📁 `&#x1F4C1;` – Geschlossener Ordner  \n",
    "- 📅 `&#x1F4C5;` – Kalender  \n",
    "- 📊 `&#x1F4CA;` – Balkendiagramm  \n",
    "- 📉 `&#x1F4C9;` – Fallendes Diagramm  \n",
    "- 📌 `&#x1F4CC;` – Pin  \n",
    "\n",
    "### 🔐 Sicherheit & Warnungen\n",
    "- 🔒 `&#x1F512;` – Geschlossenes Schloss  \n",
    "- 🔓 `&#x1F513;` – Offenes Schloss  \n",
    "- 🔑 `&#x1F511;` – Schlüssel  \n",
    "- ⚠ `&#x26A0;` – Warnung  \n",
    "- ⛔ `&#x26D4;` – Verbotsschild  \n",
    "\n",
    "### 🔼🔽 Richtungspfeile\n",
    "- ⬆ `&#x2B06;` – Pfeil nach oben  \n",
    "- ➡ `&#x27A1;` – Pfeil nach rechts  \n",
    "- ⬇ `&#x2B07;` – Pfeil nach unten  \n",
    "- ⬅ `&#x2B05;` – Pfeil nach links  \n",
    "\n",
    "### ✅❌ Symbole & Zahlen\n",
    "- ☑ `&#x2611;` – Checkbox  \n",
    "- ✔ `&#x2714;` – Haken  \n",
    "- ❌ `&#x274C;` – Kreuz  \n",
    "- 🔢 `&#x0023;` – Nummer-Zeichen (#)  \n",
    "- ✳ `&#x002A;` – Sternchen (*)  \n",
    "- 0️⃣ `&#x0030;` – Null  \n",
    "- 1️⃣ `&#x0031;` – Eins  \n",
    "- 2️⃣ `&#x0032;` – Zwei  \n",
    "- 3️⃣ `&#x0033;` – Drei  \n",
    "- 4️⃣ `&#x0034;` – Vier  \n",
    "- 5️⃣ `&#x0035;` – Fünf  \n",
    "- 6️⃣ `&#x0036;` – Sechs  \n",
    "- 7️⃣ `&#x0037;` – Sieben  \n",
    "- 8️⃣ `&#x0038;` – Acht  \n",
    "- 9️⃣ `&#x0039;` – Neun  \n",
    "- 🔟 `&#x1F51F;` – Zehn  \n",
    "\n",
    "### 🔳 Sonstige Symbole\n",
    "- ◾ `&#x25AA;` – Schwarzes Quadrat  \n",
    "- 🔹 `&#x1F539;` – Blaue Raute  \n",
    "\n",
    "---\n",
    "\n",
    "### 📌 **Anleitung zur Verwendung**\n",
    "1️⃣ **Kopiere diesen Code in eine Markdown-Zelle in JupyterLab**  \n",
    "2️⃣ **Drücke `Shift + Enter`**, um die formatierten Emojis anzuzeigen! 🚀  \n",
    "\n",
    "Falls du weitere Emojis brauchst, sag Bescheid! 😊\n"
   ]
  },
  {
   "cell_type": "markdown",
   "id": "7d048b15-4e54-4d60-98b6-60c74438687d",
   "metadata": {},
   "source": []
  },
  {
   "cell_type": "code",
   "execution_count": null,
   "id": "7523291b-3889-4678-a4ae-84b2b9e72627",
   "metadata": {},
   "outputs": [],
   "source": []
  }
 ],
 "metadata": {
  "kernelspec": {
   "display_name": "Python 3 (ipykernel)",
   "language": "python",
   "name": "python3"
  },
  "language_info": {
   "codemirror_mode": {
    "name": "ipython",
    "version": 3
   },
   "file_extension": ".py",
   "mimetype": "text/x-python",
   "name": "python",
   "nbconvert_exporter": "python",
   "pygments_lexer": "ipython3",
   "version": "3.12.2"
  }
 },
 "nbformat": 4,
 "nbformat_minor": 5
}
